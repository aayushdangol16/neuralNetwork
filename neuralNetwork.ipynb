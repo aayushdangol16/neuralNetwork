{
  "nbformat": 4,
  "nbformat_minor": 0,
  "metadata": {
    "colab": {
      "provenance": [],
      "authorship_tag": "ABX9TyOWPoHOUZMk9qvM2sLqc5KA",
      "include_colab_link": true
    },
    "kernelspec": {
      "name": "python3",
      "display_name": "Python 3"
    },
    "language_info": {
      "name": "python"
    }
  },
  "cells": [
    {
      "cell_type": "markdown",
      "metadata": {
        "id": "view-in-github",
        "colab_type": "text"
      },
      "source": [
        "<a href=\"https://colab.research.google.com/github/aayushdangol16/neuralNetwork/blob/main/neuralNetwork.ipynb\" target=\"_parent\"><img src=\"https://colab.research.google.com/assets/colab-badge.svg\" alt=\"Open In Colab\"/></a>"
      ]
    },
    {
      "cell_type": "markdown",
      "source": [
        "**Classifying Fashion-MNIST**"
      ],
      "metadata": {
        "id": "F-I_wjh2C6m2"
      }
    },
    {
      "cell_type": "code",
      "execution_count": 1,
      "metadata": {
        "colab": {
          "base_uri": "https://localhost:8080/"
        },
        "id": "BQX2CMH4CtZ5",
        "outputId": "f12e2bd8-b9de-4ffa-9e34-2c05dfc6d476"
      },
      "outputs": [
        {
          "output_type": "stream",
          "name": "stdout",
          "text": [
            "Downloading http://fashion-mnist.s3-website.eu-central-1.amazonaws.com/train-images-idx3-ubyte.gz\n",
            "Downloading http://fashion-mnist.s3-website.eu-central-1.amazonaws.com/train-images-idx3-ubyte.gz to /root/.pytorch/F_MNIST_data/FashionMNIST/raw/train-images-idx3-ubyte.gz\n"
          ]
        },
        {
          "output_type": "stream",
          "name": "stderr",
          "text": [
            "100%|██████████| 26421880/26421880 [00:02<00:00, 9707339.66it/s] \n"
          ]
        },
        {
          "output_type": "stream",
          "name": "stdout",
          "text": [
            "Extracting /root/.pytorch/F_MNIST_data/FashionMNIST/raw/train-images-idx3-ubyte.gz to /root/.pytorch/F_MNIST_data/FashionMNIST/raw\n",
            "\n",
            "Downloading http://fashion-mnist.s3-website.eu-central-1.amazonaws.com/train-labels-idx1-ubyte.gz\n",
            "Downloading http://fashion-mnist.s3-website.eu-central-1.amazonaws.com/train-labels-idx1-ubyte.gz to /root/.pytorch/F_MNIST_data/FashionMNIST/raw/train-labels-idx1-ubyte.gz\n"
          ]
        },
        {
          "output_type": "stream",
          "name": "stderr",
          "text": [
            "100%|██████████| 29515/29515 [00:00<00:00, 174252.72it/s]\n"
          ]
        },
        {
          "output_type": "stream",
          "name": "stdout",
          "text": [
            "Extracting /root/.pytorch/F_MNIST_data/FashionMNIST/raw/train-labels-idx1-ubyte.gz to /root/.pytorch/F_MNIST_data/FashionMNIST/raw\n",
            "\n",
            "Downloading http://fashion-mnist.s3-website.eu-central-1.amazonaws.com/t10k-images-idx3-ubyte.gz\n",
            "Downloading http://fashion-mnist.s3-website.eu-central-1.amazonaws.com/t10k-images-idx3-ubyte.gz to /root/.pytorch/F_MNIST_data/FashionMNIST/raw/t10k-images-idx3-ubyte.gz\n"
          ]
        },
        {
          "output_type": "stream",
          "name": "stderr",
          "text": [
            "100%|██████████| 4422102/4422102 [00:01<00:00, 3180559.61it/s]\n"
          ]
        },
        {
          "output_type": "stream",
          "name": "stdout",
          "text": [
            "Extracting /root/.pytorch/F_MNIST_data/FashionMNIST/raw/t10k-images-idx3-ubyte.gz to /root/.pytorch/F_MNIST_data/FashionMNIST/raw\n",
            "\n",
            "Downloading http://fashion-mnist.s3-website.eu-central-1.amazonaws.com/t10k-labels-idx1-ubyte.gz\n",
            "Downloading http://fashion-mnist.s3-website.eu-central-1.amazonaws.com/t10k-labels-idx1-ubyte.gz to /root/.pytorch/F_MNIST_data/FashionMNIST/raw/t10k-labels-idx1-ubyte.gz\n"
          ]
        },
        {
          "output_type": "stream",
          "name": "stderr",
          "text": [
            "100%|██████████| 5148/5148 [00:00<00:00, 19755056.72it/s]"
          ]
        },
        {
          "output_type": "stream",
          "name": "stdout",
          "text": [
            "Extracting /root/.pytorch/F_MNIST_data/FashionMNIST/raw/t10k-labels-idx1-ubyte.gz to /root/.pytorch/F_MNIST_data/FashionMNIST/raw\n",
            "\n"
          ]
        },
        {
          "output_type": "stream",
          "name": "stderr",
          "text": [
            "\n"
          ]
        }
      ],
      "source": [
        "from six.moves import urllib\n",
        "opener = urllib.request.build_opener()\n",
        "opener.addheaders = [('User-agent', 'Mozilla/5.0')]\n",
        "urllib.request.install_opener(opener)\n",
        "import torch\n",
        "from torch import nn\n",
        "import torch.nn.functional as F\n",
        "from torchvision import datasets, transforms\n",
        "from torch import optim\n",
        "import matplotlib.pyplot as plt\n",
        "import numpy as np\n",
        "\n",
        "# Define a transform to normalize the data\n",
        "transform = transforms.Compose([transforms.ToTensor(),\n",
        "                                transforms.Normalize((0.5,), (0.5,)),\n",
        "                              ])\n",
        "# Download and load the training data\n",
        "trainset = datasets.FashionMNIST('~/.pytorch/F_MNIST_data/', download=True, train=True, transform=transform)\n",
        "trainloader = torch.utils.data.DataLoader(trainset, batch_size=64, shuffle=True)\n",
        "\n",
        "# Download and load the test data\n",
        "testset = datasets.FashionMNIST('~/.pytorch/F_MNIST_data/', download=True, train=False, transform=transform)\n",
        "testloader = torch.utils.data.DataLoader(testset, batch_size=64, shuffle=True)"
      ]
    },
    {
      "cell_type": "code",
      "source": [
        "images,labels=next(iter(trainloader))"
      ],
      "metadata": {
        "id": "krLU2TadDr4H"
      },
      "execution_count": 20,
      "outputs": []
    },
    {
      "cell_type": "code",
      "source": [
        "images.shape"
      ],
      "metadata": {
        "colab": {
          "base_uri": "https://localhost:8080/"
        },
        "id": "psXRFutzDwVD",
        "outputId": "6223e89b-912f-42a8-c937-56a97b114012"
      },
      "execution_count": 21,
      "outputs": [
        {
          "output_type": "execute_result",
          "data": {
            "text/plain": [
              "torch.Size([64, 1, 28, 28])"
            ]
          },
          "metadata": {},
          "execution_count": 21
        }
      ]
    },
    {
      "cell_type": "code",
      "source": [
        "images[0]"
      ],
      "metadata": {
        "colab": {
          "base_uri": "https://localhost:8080/"
        },
        "id": "tIHykFKTD0tu",
        "outputId": "5e910056-0fec-4754-f238-e0126cc0413c"
      },
      "execution_count": 22,
      "outputs": [
        {
          "output_type": "execute_result",
          "data": {
            "text/plain": [
              "tensor([[[-1.0000, -1.0000, -1.0000, -1.0000, -1.0000, -1.0000, -1.0000,\n",
              "          -0.9922, -0.9843, -1.0000, -1.0000, -1.0000,  0.1373,  0.4510,\n",
              "           0.3098,  0.4667,  0.3569, -1.0000, -1.0000, -1.0000, -0.9765,\n",
              "          -1.0000, -1.0000, -1.0000, -1.0000, -1.0000, -1.0000, -1.0000],\n",
              "         [-1.0000, -1.0000, -1.0000, -1.0000, -1.0000, -1.0000, -0.9765,\n",
              "          -1.0000, -1.0000, -1.0000, -1.0000, -0.5216,  0.6549,  0.2157,\n",
              "           0.0431,  0.2000,  0.6078, -0.6000, -1.0000, -1.0000, -1.0000,\n",
              "          -1.0000, -0.9843, -1.0000, -1.0000, -1.0000, -1.0000, -1.0000],\n",
              "         [-1.0000, -1.0000, -1.0000, -1.0000, -1.0000, -0.9922, -1.0000,\n",
              "          -1.0000, -0.7255, -0.1529,  0.2314,  0.4588,  0.3255, -0.0275,\n",
              "           0.3020,  0.1059,  0.3725,  0.3255,  0.2784, -0.1765, -0.8275,\n",
              "          -1.0000, -1.0000, -0.9843, -1.0000, -1.0000, -1.0000, -1.0000],\n",
              "         [-1.0000, -1.0000, -1.0000, -1.0000, -1.0000, -1.0000, -0.8980,\n",
              "           0.0980,  0.2549,  0.2549,  0.1922,  0.4196,  0.5922,  0.4667,\n",
              "           0.1294,  0.4196,  0.5686,  0.4667,  0.2000,  0.2235,  0.2392,\n",
              "           0.0196, -0.9294, -1.0000, -1.0000, -1.0000, -1.0000, -1.0000],\n",
              "         [-1.0000, -1.0000, -1.0000, -1.0000, -1.0000, -1.0000,  0.2078,\n",
              "           0.3961,  0.1765,  0.1608,  0.2078,  0.4118,  0.3412,  0.5451,\n",
              "           0.6235,  0.5529,  0.1922,  0.3961,  0.2784,  0.1843,  0.2000,\n",
              "           0.3961,  0.2549, -1.0000, -1.0000, -1.0000, -1.0000, -1.0000],\n",
              "         [-1.0000, -1.0000, -1.0000, -1.0000, -1.0000, -0.5451,  0.5765,\n",
              "           0.2627,  0.3255,  0.1922,  0.2235,  0.2078,  0.2078,  0.2471,\n",
              "           0.3961,  0.2000,  0.2235,  0.3020,  0.1922,  0.2784,  0.2706,\n",
              "           0.3333,  0.6157, -0.6078, -1.0000, -1.0000, -1.0000, -1.0000],\n",
              "         [-1.0000, -1.0000, -1.0000, -1.0000, -1.0000, -0.1529,  0.5608,\n",
              "           0.2784,  0.5137,  0.2627,  0.2235,  0.2784,  0.2000,  0.2157,\n",
              "           0.3569,  0.2314,  0.2157,  0.2157,  0.2549,  0.2392,  0.3961,\n",
              "           0.4275,  0.5843, -0.1373, -1.0000, -1.0000, -1.0000, -1.0000],\n",
              "         [-1.0000, -1.0000, -1.0000, -1.0000, -1.0000,  0.1451,  0.5137,\n",
              "           0.3176,  0.6314,  0.3569,  0.2235,  0.2000,  0.1765,  0.1451,\n",
              "           0.3176,  0.2392,  0.2000,  0.1922,  0.2314,  0.2549,  0.6000,\n",
              "           0.4745,  0.5137,  0.0667, -1.0000, -1.0000, -1.0000, -1.0000],\n",
              "         [-1.0000, -1.0000, -1.0000, -1.0000, -1.0000,  0.3490,  0.4588,\n",
              "           0.3882,  0.6235,  0.5451,  0.2784,  0.2157,  0.1608,  0.1843,\n",
              "           0.2157,  0.1608,  0.1765,  0.2235,  0.1843,  0.4275,  0.7020,\n",
              "           0.4196,  0.4824,  0.1922, -1.0000, -1.0000, -1.0000, -1.0000],\n",
              "         [-1.0000, -1.0000, -1.0000, -1.0000, -1.0000,  0.3333,  0.4353,\n",
              "           0.3961,  0.6314,  0.6471,  0.3882,  0.2471,  0.2157,  0.2471,\n",
              "           0.3098,  0.2314,  0.2078,  0.2314,  0.3098,  0.6314,  0.6235,\n",
              "           0.3569,  0.4510,  0.3333, -1.0000, -1.0000, -1.0000, -1.0000],\n",
              "         [-1.0000, -1.0000, -1.0000, -1.0000, -1.0000,  0.3961,  0.3647,\n",
              "           0.4118,  0.6549,  0.5922,  0.4745,  0.3098,  0.2706,  0.2627,\n",
              "           0.3725,  0.2941,  0.2706,  0.3333,  0.4510,  0.6549,  0.5843,\n",
              "           0.4353,  0.3961,  0.5294, -1.0000, -1.0000, -1.0000, -1.0000],\n",
              "         [-1.0000, -1.0000, -1.0000, -1.0000, -1.0000,  0.6549,  0.2941,\n",
              "           0.4588,  0.6941,  0.5059,  0.4745,  0.3255,  0.3098,  0.3098,\n",
              "           0.0902,  0.2157,  0.2784,  0.3804,  0.4431,  0.5765,  0.7176,\n",
              "           0.3255,  0.3412,  0.6078, -1.0000, -1.0000, -1.0000, -1.0000],\n",
              "         [-1.0000, -1.0000, -1.0000, -1.0000, -1.0000,  0.7804,  0.2392,\n",
              "           0.4824,  0.7490,  0.4588,  0.4980,  0.3020,  0.3961,  0.2235,\n",
              "           0.2235,  0.2941,  0.2314,  0.3961,  0.4275,  0.6078,  0.7020,\n",
              "           0.2392,  0.3412,  0.7255, -1.0000, -1.0000, -1.0000, -1.0000],\n",
              "         [-1.0000, -1.0000, -1.0000, -1.0000, -0.9451,  0.6235,  0.2471,\n",
              "           0.3490,  0.7804,  0.4510,  0.4824,  0.4118,  0.3725,  0.2078,\n",
              "           0.3725,  0.2706,  0.2627,  0.3804,  0.4588,  0.5843,  0.7176,\n",
              "           0.3412,  0.2784,  0.7804, -0.8980, -1.0000, -1.0000, -1.0000],\n",
              "         [-1.0000, -1.0000, -1.0000, -1.0000, -0.7176,  0.6078,  0.2627,\n",
              "           0.2706,  0.8588,  0.5059,  0.4353,  0.4588,  0.3490,  0.2784,\n",
              "           0.2000,  0.2784,  0.3725,  0.3412,  0.5451,  0.5294,  0.8039,\n",
              "           0.2314,  0.2627,  0.8510, -0.7020, -1.0000, -1.0000, -1.0000],\n",
              "         [-1.0000, -1.0000, -1.0000, -1.0000, -0.3412,  0.6471,  0.2941,\n",
              "           0.2627,  0.6471,  0.6157,  0.4431,  0.5294,  0.3176,  0.3020,\n",
              "           0.1294,  0.2941,  0.4275,  0.3098,  0.5686,  0.5529,  0.9216,\n",
              "           0.2549,  0.3412,  0.5843, -0.6157, -1.0000, -1.0000, -1.0000],\n",
              "         [-1.0000, -1.0000, -1.0000, -1.0000, -0.2157,  0.5608,  0.2706,\n",
              "           0.2471,  0.4902,  0.7176,  0.4275,  0.5608,  0.2941,  0.2627,\n",
              "           0.3490,  0.3255,  0.4353,  0.3333,  0.4980,  0.6235,  0.7647,\n",
              "           0.3961,  0.2157,  0.8196, -0.4902, -1.0000, -1.0000, -1.0000],\n",
              "         [-1.0000, -1.0000, -1.0000, -1.0000, -0.1686,  0.5843,  0.0824,\n",
              "           0.6471,  0.2941,  0.6549,  0.4353,  0.5843,  0.2627,  0.3176,\n",
              "           0.2471,  0.3804,  0.4431,  0.4118,  0.4431,  0.6627,  0.3098,\n",
              "           0.4980,  0.1216,  0.7333, -0.2784, -1.0000, -1.0000, -1.0000],\n",
              "         [-1.0000, -1.0000, -1.0000, -1.0000, -0.2000,  0.5137,  0.1137,\n",
              "           0.8039,  0.0196,  0.8039,  0.4196,  0.5922,  0.2941,  0.3725,\n",
              "           0.1059,  0.3176,  0.3882,  0.4902,  0.4275,  0.7020, -0.0824,\n",
              "           0.5843,  0.1529,  0.6784, -0.2392, -1.0000, -1.0000, -1.0000],\n",
              "         [-1.0000, -1.0000, -1.0000, -1.0000, -0.0118,  0.5373,  0.3098,\n",
              "           0.5529, -0.3255,  0.8667,  0.3882,  0.6157,  0.2941,  0.4275,\n",
              "           0.3098,  0.3020,  0.2784,  0.5843,  0.4431,  0.7961, -0.4353,\n",
              "           0.6157,  0.2627,  0.6863, -0.3333, -1.0000, -1.0000, -1.0000],\n",
              "         [-1.0000, -1.0000, -1.0000, -1.0000,  0.1451,  0.4431,  0.3333,\n",
              "           0.4353, -0.5059,  0.9765,  0.3804,  0.5686,  0.3412,  0.4275,\n",
              "           0.3176,  0.3569,  0.2784,  0.5451,  0.5137,  0.8980, -0.6235,\n",
              "           0.5294,  0.3176,  0.4902,  0.0039, -1.0000, -1.0000, -1.0000],\n",
              "         [-1.0000, -1.0000, -1.0000, -1.0000,  0.0902,  0.3412,  0.6941,\n",
              "           0.1608, -0.3490,  1.0000,  0.4353,  0.5843,  0.2941,  0.4824,\n",
              "           0.1216,  0.3176,  0.2784,  0.4275,  0.5529,  0.9373, -0.4745,\n",
              "           0.1373,  0.4275,  0.4118,  0.1059, -1.0000, -1.0000, -1.0000],\n",
              "         [-1.0000, -1.0000, -1.0000, -1.0000,  0.3020,  0.3098,  0.7725,\n",
              "          -0.5608, -0.1059,  0.9373,  0.4353,  0.6078,  0.2314,  0.4745,\n",
              "           0.2549,  0.3412,  0.3020,  0.3490,  0.5373,  0.7020, -0.1373,\n",
              "          -0.1922,  0.5765,  0.4353,  0.1216, -1.0000, -1.0000, -1.0000],\n",
              "         [-1.0000, -1.0000, -1.0000, -1.0000,  0.1373,  0.3490,  0.8510,\n",
              "          -1.0000,  0.2314,  0.6549,  0.4196,  0.5608,  0.2784,  0.4588,\n",
              "           0.3412,  0.3098,  0.3804,  0.2392,  0.4745,  0.7098, -0.0275,\n",
              "          -0.8118,  0.6941,  0.3961,  0.2706, -1.0000, -1.0000, -1.0000],\n",
              "         [-1.0000, -1.0000, -1.0000, -1.0000, -0.0510,  0.3569,  0.5765,\n",
              "          -1.0000,  0.5922,  0.5451,  0.4275,  0.5059,  0.3176,  0.4824,\n",
              "           0.3569,  0.3176,  0.4431,  0.2784,  0.4353,  0.6078,  0.2471,\n",
              "          -1.0000,  0.7333,  0.4196,  0.1059, -1.0000, -1.0000, -1.0000],\n",
              "         [-1.0000, -1.0000, -1.0000, -1.0000,  0.0275,  0.4824,  0.5373,\n",
              "          -1.0000,  0.3961,  0.5843,  0.3725,  0.4431,  0.3020,  0.4824,\n",
              "           0.3569,  0.3412, -0.0745,  0.0980,  0.4275,  0.5922,  0.6000,\n",
              "          -1.0000,  0.5843,  0.4902,  0.1137, -1.0000, -1.0000, -1.0000],\n",
              "         [-1.0000, -1.0000, -1.0000, -1.0000, -0.3882, -0.0353, -0.1373,\n",
              "          -1.0000, -0.9216,  0.5686,  0.4667,  0.5137,  0.4353,  0.5686,\n",
              "           0.4902,  0.3098,  0.6549,  0.4118,  0.4745,  0.5451, -0.5451,\n",
              "          -1.0000,  0.0980, -0.0510, -0.1765, -1.0000, -1.0000, -1.0000],\n",
              "         [-1.0000, -1.0000, -1.0000, -1.0000, -1.0000, -1.0000, -1.0000,\n",
              "          -1.0000, -1.0000, -1.0000, -0.4588, -0.1216, -0.0118,  0.1451,\n",
              "           0.0275,  0.0745,  0.0902, -0.1059, -0.3569, -0.9137, -1.0000,\n",
              "          -1.0000, -1.0000, -1.0000, -1.0000, -1.0000, -1.0000, -1.0000]]])"
            ]
          },
          "metadata": {},
          "execution_count": 22
        }
      ]
    },
    {
      "cell_type": "code",
      "source": [
        "labels.shape"
      ],
      "metadata": {
        "colab": {
          "base_uri": "https://localhost:8080/"
        },
        "id": "tk_Jcq-kD_cV",
        "outputId": "0a75e623-cb27-4b27-a424-8d74de0ea003"
      },
      "execution_count": 23,
      "outputs": [
        {
          "output_type": "execute_result",
          "data": {
            "text/plain": [
              "torch.Size([64])"
            ]
          },
          "metadata": {},
          "execution_count": 23
        }
      ]
    },
    {
      "cell_type": "code",
      "source": [
        "labels"
      ],
      "metadata": {
        "colab": {
          "base_uri": "https://localhost:8080/"
        },
        "id": "Szz0S2c8ECl5",
        "outputId": "3444b496-e15a-41ad-e2e0-da91c6517647"
      },
      "execution_count": 24,
      "outputs": [
        {
          "output_type": "execute_result",
          "data": {
            "text/plain": [
              "tensor([6, 3, 7, 1, 7, 1, 9, 4, 7, 0, 7, 9, 7, 6, 8, 7, 6, 8, 9, 4, 7, 2, 8, 4,\n",
              "        6, 0, 2, 8, 9, 2, 9, 8, 6, 6, 1, 3, 1, 7, 9, 4, 5, 7, 0, 8, 6, 8, 6, 6,\n",
              "        5, 9, 8, 2, 7, 1, 8, 0, 3, 4, 1, 9, 7, 3, 8, 0])"
            ]
          },
          "metadata": {},
          "execution_count": 24
        }
      ]
    },
    {
      "cell_type": "code",
      "source": [
        "plt.imshow(images[15].view(28,28),cmap='gray')"
      ],
      "metadata": {
        "colab": {
          "base_uri": "https://localhost:8080/",
          "height": 447
        },
        "id": "FobSYnLPEP3s",
        "outputId": "6ae6d57a-3023-41f6-a82c-6d41386a7e87"
      },
      "execution_count": 35,
      "outputs": [
        {
          "output_type": "execute_result",
          "data": {
            "text/plain": [
              "<matplotlib.image.AxesImage at 0x7d7f16ca8c40>"
            ]
          },
          "metadata": {},
          "execution_count": 35
        },
        {
          "output_type": "display_data",
          "data": {
            "text/plain": [
              "<Figure size 640x480 with 1 Axes>"
            ],
            "image/png": "[encoded data removed]"
          },
          "metadata": {}
        }
      ]
    },
    {
      "cell_type": "code",
      "source": [
        "model=nn.Sequential(nn.Linear(784,256),\n",
        "                    nn.ReLU(),\n",
        "                    nn.Linear(256,128),\n",
        "                    nn.ReLU(),\n",
        "                    nn.Linear(128,64),\n",
        "                    nn.ReLU(),\n",
        "                    nn.Linear(64,10),\n",
        "                    nn.LogSoftmax(dim=1))\n",
        "criterion=nn.NLLLoss()\n",
        "optimizer=optim.Adam(model.parameters(),lr=0.003)"
      ],
      "metadata": {
        "id": "ZWVJ16TfFcEJ"
      },
      "execution_count": 37,
      "outputs": []
    },
    {
      "cell_type": "code",
      "source": [
        "epochs=5\n",
        "for e in range(epochs):\n",
        "  running_loss=0\n",
        "  for images,labels in trainloader:\n",
        "    images=images.view(images.shape[0],-1)\n",
        "    optimizer.zero_grad()\n",
        "    output=model(images)\n",
        "    loss=criterion(output,labels)\n",
        "    loss.backward()\n",
        "    optimizer.step()\n",
        "    running_loss+=loss.item()\n",
        "  else:\n",
        "    print(f\"Training Loss: {running_loss/len(trainloader)}\")"
      ],
      "metadata": {
        "colab": {
          "base_uri": "https://localhost:8080/"
        },
        "id": "x9rYJ7q6GJqF",
        "outputId": "4d025c88-a424-45e1-d78a-5942f50b3ad3"
      },
      "execution_count": 41,
      "outputs": [
        {
          "output_type": "stream",
          "name": "stdout",
          "text": [
            "Training Loss: 0.2561200242847014\n",
            "Training Loss: 0.2543906151358761\n",
            "Training Loss: 0.2502777101690454\n",
            "Training Loss: 0.24106941345149774\n",
            "Training Loss: 0.2398139592339553\n"
          ]
        }
      ]
    },
    {
      "cell_type": "code",
      "source": [
        "images,labels=next(iter(testloader))\n",
        "img=images[0].view(1,784)\n",
        "with torch.no_grad():\n",
        "  logps=model(img)\n",
        "ps=torch.exp(logps)"
      ],
      "metadata": {
        "id": "hNMcoPRxJHRp"
      },
      "execution_count": 42,
      "outputs": []
    },
    {
      "cell_type": "code",
      "source": [
        "ps"
      ],
      "metadata": {
        "colab": {
          "base_uri": "https://localhost:8080/"
        },
        "id": "uxRDwSHKJoyJ",
        "outputId": "26f3ecff-1803-4b02-e583-71dbffa36eb4"
      },
      "execution_count": 43,
      "outputs": [
        {
          "output_type": "execute_result",
          "data": {
            "text/plain": [
              "tensor([[2.6625e-44, 5.8853e-31, 6.5541e-39, 2.9761e-30, 1.9173e-39, 1.5861e-13,\n",
              "         1.6491e-33, 1.9009e-05, 2.6994e-21, 9.9998e-01]])"
            ]
          },
          "metadata": {},
          "execution_count": 43
        }
      ]
    },
    {
      "cell_type": "code",
      "source": [
        "ps.shape"
      ],
      "metadata": {
        "colab": {
          "base_uri": "https://localhost:8080/"
        },
        "id": "xjSgklNgJqaf",
        "outputId": "eb1671b6-39fc-49f6-deca-1c6edb6664d2"
      },
      "execution_count": 44,
      "outputs": [
        {
          "output_type": "execute_result",
          "data": {
            "text/plain": [
              "torch.Size([1, 10])"
            ]
          },
          "metadata": {},
          "execution_count": 44
        }
      ]
    },
    {
      "cell_type": "code",
      "source": [
        "Class=['T-shirt/top','Trouser','Pullover','Dress','Coat','Sandal','Shirt','Sneaker','Bag','Ankle boot']\n",
        "plt.imshow(images[0].view(28, 28), cmap='gray')\n",
        "probabilities = ps.detach().numpy().squeeze()\n",
        "plt.figure(figsize=(10, 6))\n",
        "plt.bar(Class, probabilities)\n",
        "plt.ylabel('Probability')\n",
        "plt.show()"
      ],
      "metadata": {
        "colab": {
          "base_uri": "https://localhost:8080/",
          "height": 935
        },
        "id": "g0CaMp2qJtMO",
        "outputId": "fd27d7d5-4148-4774-e4dd-12a18bbf0d18"
      },
      "execution_count": 46,
      "outputs": [
        {
          "output_type": "display_data",
          "data": {
            "text/plain": [
              "<Figure size 640x480 with 1 Axes>"
            ],
            "image/png": "[encoded data removed]"
          },
          "metadata": {}
        },
        {
          "output_type": "display_data",
          "data": {
            "text/plain": [
              "<Figure size 1000x600 with 1 Axes>"
            ],
            "image/png": "[encoded data removed]"
          },
          "metadata": {}
        }
      ]
    }
  ]
}